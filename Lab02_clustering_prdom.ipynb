{
  "cells": [
    {
      "cell_type": "markdown",
      "metadata": {
        "id": "view-in-github",
        "colab_type": "text"
      },
      "source": [
        "<a href=\"https://colab.research.google.com/github/krzysztof-kar/ML2025/blob/main/Lab02_clustering_prdom.ipynb\" target=\"_parent\"><img src=\"https://colab.research.google.com/assets/colab-badge.svg\" alt=\"Open In Colab\"/></a>"
      ]
    },
    {
      "cell_type": "markdown",
      "source": [
        "# **Homework Assignment: EM Clustering in 2D**\n",
        "-------------------------------\n",
        "\n",
        "You have seen how the **Expectation-Maximization (EM)** algorithm can fit a Gaussian Mixture Model (GMM) to a 2D dataset. You should now explore:\n",
        "\n",
        "## **Primary Question**\n",
        "\n",
        "**How can we visualize the *decision boundary* for attributing a *new* (unlabeled) point to one of the GMM clusters?**  \n",
        "\n",
        "In other words, given a 2D data distribution modeled by EM, think of a way to clearly show (on a plot) *which* cluster a point would be assigned to (or which cluster has the highest responsibility (posterior probability) for that point)?  \n",
        "\n",
        "The plot should comprehensively cover the entire visible region, ensuring that for any point on the plot, it is immediately evident which cluster it would belong to. You can plot **lines** separating clusters or use a **color map** showing each point's \"most likely cluster\".\n",
        "\n",
        "You can illustrate your approach with **the same** 2D dataset that we used in class, or you can find another suitable 2D dataset, it's up to you. Note however, that having 3 clusters enhances the clarity of the visualization—while 2 clusters result in overly simple boundaries, using 4 or more clusters can make the entire plot difficult to interpret. Try to choose a dataset with 3 clusters.\n",
        "\n",
        "Discuss any irregularities observed in the resulting plot. If a decision boundary suggests that a region should be attributed to a cluster in a counterintuitive way (we saw it in class!), provide an explanation for why this might occur. It may be also an indication you have a bug in your code.\n",
        "\n",
        "## **Secondary Question**\n",
        "\n",
        "**If we *didn't know* the number of clusters in advance, how could we decide on a suitable $K$ for the clustering algorithm?**  \n",
        "\n",
        "You can illustrate your approach with **the same** dataset as in the primary question by trying different values of $K$ (and optionally plotting the evaluation metric values, e.g. silhouette scores, etc.). Or you can find another suitable dataset, it's up to you. Note, that the dataset doesn't need to be 2D in this task.\n",
        "\n",
        "## **Task & Deliverables**\n",
        "\n",
        "1. **Colab Notebook**  \n",
        "   - Create a **Colab notebook** that:\n",
        "     - Clearly **answers** both the **primary** and **secondary** questions with appropriate plots and short explanations.\n",
        "     - Uses Python code (e.g. `scikit-learn` for GMM) to visualize:\n",
        "       1. The **data** and **cluster assignments**.\n",
        "       2. The **decision boundary** (lines or a color map) indicating each cluster's region.\n",
        "       3. A demonstration (chart or table) of how you would pick a suitable number of clusters $K$ when it is not known.\n",
        "   - Remember to use the `$` symbol to delimit **inline equations** and `$$` to delimit **full-line equations**.\n",
        "\n",
        "2. **Publish on GitHub**  \n",
        "   - Place the Colab notebook in your **GitHub repository** for this course.\n",
        "   - In your repository’s **README**, add a **link** to the notebook and also include an **“Open in Colab”** badge at the top of the notebook so it can be launched directly from GitHub.\n",
        "\n"
      ],
      "metadata": {
        "id": "6tW5-wGU1pU0"
      },
      "id": "6tW5-wGU1pU0"
    }
  ],
  "metadata": {
    "colab": {
      "provenance": [],
      "include_colab_link": true
    },
    "language_info": {
      "name": "python"
    },
    "kernelspec": {
      "name": "python3",
      "display_name": "Python 3"
    }
  },
  "nbformat": 4,
  "nbformat_minor": 5
}
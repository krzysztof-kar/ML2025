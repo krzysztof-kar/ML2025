{
  "cells": [
    {
      "cell_type": "markdown",
      "metadata": {
        "id": "view-in-github",
        "colab_type": "text"
      },
      "source": [
        "<a href=\"https://colab.research.google.com/github/krzysztof-kar/ML2025/blob/main/Lab01_PCA.ipynb\" target=\"_parent\"><img src=\"https://colab.research.google.com/assets/colab-badge.svg\" alt=\"Open In Colab\"/></a>"
      ]
    },
    {
      "cell_type": "markdown",
      "source": [
        "# **Homework Assignment: Principal Component Analysis (PCA) on 3D Clustered Data**\n",
        "\n",
        "-------------------------------\n",
        "\n",
        "You are provided with a dataset containing 3-dimensional data points from three distinct classes. The dataset can be downloaded from the following link:\n",
        "\n",
        "**[PCA Three Clusters Dataset](https://github.com/SzymonNowakowski/Machine-Learning-2024/blob/master/PCA_three_clusters_data.csv)**\n",
        "\n",
        "Each data point is represented by three continuous features $(x, y, z)$ and belongs to one of three clusters.\n",
        "\n",
        "## **Primary Question**\n",
        "\n",
        "**Perform PCA on the provided dataset to find the two principal components and visualize the data in a 2D plot using these components.**\n",
        "\n",
        "- Compare this PCA plot with the following 2D plots of the original data:\n",
        "  - $x$ vs. $y$\n",
        "  - $x$ vs. $z$\n",
        "  - $y$ vs. $z$\n",
        "\n",
        "**Does PCA improve the separation of data points from different clusters compared to the original feature spaces? Explain why.**\n",
        "\n",
        "\n",
        "\n",
        "## **Secondary Question**\n",
        "\n",
        "Remember: before applying PCA, **standardize** the data so that each feature has a mean of 0 and a variance of 1.\n",
        "\n",
        "**Why is standardization necessary before applying PCA?**\n",
        "\n",
        "- Reflect on how differences in scale among features can impact the principal component directions.\n",
        "\n",
        "## **Task & Deliverables**\n",
        "\n",
        "1. **Colab Notebook**  \n",
        "   - Create a **Colab notebook** that:\n",
        "     - Performs PCA on the dataset and visualizes the first two principal components in a 2D scatter plot.\n",
        "     - Includes separate 2D scatter plots for the original feature pairs: $(x, y)$, $(x, z)$, and $(y, z)$.\n",
        "     - Clearly **answers** both the **primary** and **secondary** questions.\n",
        "     - Uses Python code to perform PCA, standardize the data, and generate the required plots.\n",
        "   - To answer the primary question, you may consider creating additional visualizations or charts beyond those listed above. For example, some students might choose to explore a 3D plot of the data. Feel free to experiment with different approaches.\n",
        "\n",
        "2. **Publish on GitHub**  \n",
        "   - Place the Colab notebook in your **GitHub repository** for this course.\n",
        "   - In your repository’s **README**, add a **link** to the notebook and include an **“Open in Colab”** badge in your notebook, so it can be launched directly from GitHub.\n",
        "\n",
        "\n",
        "\n",
        "\n"
      ],
      "metadata": {
        "id": "x2GGfUfXpw-m"
      },
      "id": "x2GGfUfXpw-m"
    }
  ],
  "metadata": {
    "colab": {
      "provenance": [],
      "include_colab_link": true
    },
    "language_info": {
      "name": "python"
    },
    "kernelspec": {
      "name": "python3",
      "display_name": "Python 3"
    }
  },
  "nbformat": 4,
  "nbformat_minor": 5
}
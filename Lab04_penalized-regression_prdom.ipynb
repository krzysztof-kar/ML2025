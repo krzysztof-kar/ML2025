{
  "cells": [
    {
      "cell_type": "markdown",
      "metadata": {
        "id": "view-in-github",
        "colab_type": "text"
      },
      "source": [
        "<a href=\"https://colab.research.google.com/github/krzysztof-kar/ML2025/blob/main/Lab04_penalized-regression_prdom.ipynb\" target=\"_parent\"><img src=\"https://colab.research.google.com/assets/colab-badge.svg\" alt=\"Open In Colab\"/></a>"
      ]
    },
    {
      "cell_type": "markdown",
      "source": [
        "# **Homework Assignment: Analyzing and Plotting Bias in Penalized Regression**\n",
        "\n",
        "-------------------------------\n",
        "\n",
        "In this assignment, you will explore how **Ridge** and **Lasso** regression introduce **bias** into a model to reduce **variance**, and how the choice of the regularization parameter $\\lambda$ affects this trade-off. The goal is to visualize and analyze the **bias-variance trade-off** and understand the conditions under which penalization helps or hinders model performance.\n",
        "\n",
        "## **The Question**\n",
        "\n",
        "**How does varying the regularization parameter $\\lambda$ in Ridge and Lasso regression impact the trade-off between bias and variance?**\n",
        "\n",
        "- Generate a synthetic dataset based on a **known** linear relationship:\n",
        "  \n",
        "  $$\n",
        "  y = \\beta_0 + \\beta_1 x + \\ldots + \\epsilon\n",
        "  $$\n",
        "\n",
        "  where $$\\epsilon \\sim \\mathcal{N}(0, \\sigma^2),$$\n",
        "\n",
        "  use a **high-dimensional** setting (e.g., 50 predictors) with only a few non-zero true coefficients to emphasize the effects of regularization. I stress, the $\\beta_i$ coefficients should be known for this experiment and they should be mostly 0, with only a few non-zero parameters.\n",
        "\n",
        "- Investigate how increasing $\\lambda$ influences the model’s **bias**, **variance**, and **Mean Squared Error (MSE)**.\n",
        "- Plot **Bias²**, **Variance**, and **MSE** on a single graph for both Ridge and Lasso models.\n",
        "- Explain MSE decomposition into bias and variance. Read more on the MSE decomposition if you need to.\n",
        "\n",
        "**Does the regularization lead to an optimal trade-off point where MSE is minimized? Explain why this point exists.**\n",
        "\n",
        "\n",
        "\n",
        "\n",
        "**Expected Outcome:**\n",
        " - As $\\lambda$ increases:\n",
        "   - **Bias** increases (the model becomes too simple).\n",
        "   - **Variance** decreases (the model becomes more stable).\n",
        "   - **MSE** forms a **U-shape**, revealing the optimal trade-off.\n",
        "\n",
        "- Analyze how **Ridge** and **Lasso** differ in terms of their bias-variance trade-offs.\n",
        "- Discuss situations where one method may outperform the other, considering factors like **feature sparsity** and **multicollinearity**.\n",
        "\n",
        "\n",
        "## **Colab Notebook Requirements**\n",
        "- Your **Colab notebook** should:\n",
        "  - Simulate the synthetic dataset and apply Ridge and Lasso regression.\n",
        "  - Plot **Bias²**, **Variance**, and **MSE** against $\\lambda$ for both models.\n",
        "  - Include a section answering the questions.\n",
        "  - Be well-documented with comments and explanations for each step.\n",
        "\n",
        "\n",
        "## **Publish on GitHub**\n",
        "- Upload your Colab notebook to your **GitHub repository** for this course.\n",
        "- In your repository’s **README**, include a **link** to the notebook.\n",
        "- In the notebook include **“Open in Colab”** badge so the notebook can be launched directly from GitHub.\n"
      ],
      "metadata": {
        "id": "edCfpwkVKoyf"
      },
      "id": "edCfpwkVKoyf"
    },
    {
      "cell_type": "code",
      "source": [
        "import numpy as np\n",
        "import pandas as pd\n",
        "from sklearn.datasets import fetch_california_housing\n",
        "from sklearn.linear_model import LassoCV, Lasso\n",
        "from sklearn.preprocessing import StandardScaler\n",
        "import matplotlib.pyplot as plt\n",
        "\n",
        "\n",
        "n = 50\n",
        "m = 20\n",
        "\n",
        "X = np.zeros(shape=(n,m))\n",
        "np.random.seed(42)\n",
        "for i in range(n):\n",
        "  X[i] = np.random.uniform(-1, 1, m)\n",
        "\n",
        "beta = np.zeros(n)\n",
        "ind = [2,5,23,33,41,49]\n",
        "for i in ind:\n",
        "  beta[i] = np.random.rand()\n",
        "#beta = beta[:, np.newaxis]\n",
        "#print(beta)\n",
        "y = X.T.dot(beta) + np.random.normal(scale=1.0, size=m)\n",
        "print(y)\n",
        "#y = y.T\n",
        "X = X.T\n",
        "scaler = StandardScaler()\n",
        "X = scaler.fit_transform(X)\n",
        "n_folds = 5\n",
        "lasso = LassoCV(cv=n_folds, random_state=42).fit(X, y)"
      ],
      "metadata": {
        "id": "broMlau3cFQb",
        "outputId": "66eb0dae-3522-4262-d0d3-9e1ff96f5359",
        "colab": {
          "base_uri": "https://localhost:8080/"
        }
      },
      "id": "broMlau3cFQb",
      "execution_count": 36,
      "outputs": [
        {
          "output_type": "stream",
          "name": "stdout",
          "text": [
            "[-0.42221406  1.13607406 -0.64621672 -2.46343064  1.36673523 -0.05934822\n",
            " -0.64105088 -1.17848474 -2.25028264  1.31537458 -1.47335088  1.99740926\n",
            " -1.63511848  0.82553544  0.85045071  0.94093194  0.17965506 -1.67059118\n",
            "  2.05265703  0.38660349]\n"
          ]
        }
      ]
    }
  ],
  "metadata": {
    "colab": {
      "provenance": [],
      "include_colab_link": true
    },
    "language_info": {
      "name": "python"
    },
    "kernelspec": {
      "name": "python3",
      "display_name": "Python 3"
    }
  },
  "nbformat": 4,
  "nbformat_minor": 5
}